{
 "cells": [
  {
   "cell_type": "markdown",
   "metadata": {},
   "source": [
    "# Cosine simularity of translation and original"
   ]
  },
  {
   "cell_type": "markdown",
   "metadata": {},
   "source": [
    "1) We create txt-file like this:"
   ]
  },
  {
   "cell_type": "code",
   "execution_count": 115,
   "metadata": {},
   "outputs": [],
   "source": [
    "f = open('./hp_sents/sharp.txt')\n",
    "file = f.read()"
   ]
  },
  {
   "cell_type": "code",
   "execution_count": 116,
   "metadata": {
    "collapsed": true
   },
   "outputs": [],
   "source": [
    "en_rus = file.split('\\n\\n')"
   ]
  },
  {
   "cell_type": "code",
   "execution_count": 117,
   "metadata": {},
   "outputs": [
    {
     "data": {
      "text/plain": [
       "'sharp He expected to feel sharp beaks and claws tearing at him any second, but nothing happened.\\nострые Он был готов к тому, что в любое мгновение в него вонзятся острые клювы и когти, но этого не произошло.'"
      ]
     },
     "execution_count": 117,
     "metadata": {},
     "output_type": "execute_result"
    }
   ],
   "source": [
    "en_rus[0]"
   ]
  },
  {
   "cell_type": "markdown",
   "metadata": {},
   "source": [
    "2) We can tag our data using UD-Pipe models"
   ]
  },
  {
   "cell_type": "code",
   "execution_count": 118,
   "metadata": {},
   "outputs": [],
   "source": [
    "from udpipe_model import Model\n",
    "model_ru = Model('russian-ud-2.0-170801.udpipe')\n",
    "model = Model('english-ud-2.0-170801.udpipe')\n",
    "\n",
    "from gensim.models import Word2Vec\n",
    "from gensim import matutils\n",
    "\n",
    "import re\n",
    "import pos_tag\n",
    "import numpy as np\n",
    "\n",
    "#import warnings\n",
    "#warnings.filterwarnings(\"ignore\")"
   ]
  },
  {
   "cell_type": "code",
   "execution_count": 119,
   "metadata": {},
   "outputs": [
    {
     "data": {
      "text/plain": [
       "(['PRON', 'VERB', 'PROPN', 'PUNCT', 'PRON', 'VERB', 'ADP', 'NOUN', 'PUNCT'],\n",
       " ['Меня', 'зовут', 'Ира', '.', 'Я', 'учусь', 'в', 'школе', '.'])"
      ]
     },
     "execution_count": 119,
     "metadata": {},
     "output_type": "execute_result"
    }
   ],
   "source": [
    "pos_tag.itog('Меня зовут Ира. Я учусь в школе.', model_ru)"
   ]
  },
  {
   "cell_type": "code",
   "execution_count": 120,
   "metadata": {},
   "outputs": [],
   "source": [
    "model_rus = Word2Vec.load('./araneum_none_fasttextcbow_300_5_2018/araneum_none_fasttextcbow_300_5_2018.model')"
   ]
  },
  {
   "cell_type": "code",
   "execution_count": 16,
   "metadata": {
    "collapsed": true
   },
   "outputs": [],
   "source": [
    "def similarity(v1, v2):\n",
    "    v1_norm = matutils.unitvec(np.array(v1))\n",
    "    v2_norm = matutils.unitvec(np.array(v2))\n",
    "    return np.dot(v1_norm, v2_norm)"
   ]
  },
  {
   "cell_type": "code",
   "execution_count": 17,
   "metadata": {},
   "outputs": [
    {
     "data": {
      "text/plain": [
       "0.61749196"
      ]
     },
     "execution_count": 17,
     "metadata": {},
     "output_type": "execute_result"
    }
   ],
   "source": [
    "v1 = model_rus.wv['острый']\n",
    "v2 = model_rus.wv['остренький']\n",
    "similarity(v1, v2)"
   ]
  },
  {
   "cell_type": "code",
   "execution_count": 18,
   "metadata": {},
   "outputs": [
    {
     "data": {
      "text/plain": [
       "0.32305303"
      ]
     },
     "execution_count": 18,
     "metadata": {},
     "output_type": "execute_result"
    }
   ],
   "source": [
    "v1 = model_rus.wv['острый']\n",
    "v2 = model_rus.wv['горячий']\n",
    "similarity(v1, v2)"
   ]
  },
  {
   "cell_type": "code",
   "execution_count": 19,
   "metadata": {},
   "outputs": [
    {
     "name": "stdout",
     "output_type": "stream",
     "text": [
      "[==================================================] 100.0% 376.1/376.1MB downloaded\n"
     ]
    }
   ],
   "source": [
    "import gensim.downloader as api\n",
    "word_vectors = api.load(\"glove-wiki-gigaword-300\")"
   ]
  },
  {
   "cell_type": "code",
   "execution_count": 20,
   "metadata": {},
   "outputs": [
    {
     "data": {
      "text/plain": [
       "0.4673724"
      ]
     },
     "execution_count": 20,
     "metadata": {},
     "output_type": "execute_result"
    }
   ],
   "source": [
    "v1 = word_vectors.wv['sharp']\n",
    "v2 = word_vectors.wv['pointed']\n",
    "similarity(v1, v2)"
   ]
  },
  {
   "cell_type": "code",
   "execution_count": 21,
   "metadata": {},
   "outputs": [
    {
     "data": {
      "text/plain": [
       "0.20731342"
      ]
     },
     "execution_count": 21,
     "metadata": {},
     "output_type": "execute_result"
    }
   ],
   "source": [
    "v1 = word_vectors.wv['sharp']\n",
    "v2 = word_vectors.wv['hot']\n",
    "similarity(v1, v2)"
   ]
  },
  {
   "cell_type": "code",
   "execution_count": 38,
   "metadata": {},
   "outputs": [
    {
     "data": {
      "text/plain": [
       "-0.017173517"
      ]
     },
     "execution_count": 38,
     "metadata": {},
     "output_type": "execute_result"
    }
   ],
   "source": [
    "v1 = word_vectors.wv['sharp']\n",
    "v2 = model_rus.wv['острый']\n",
    "similarity(v1, v2)"
   ]
  },
  {
   "cell_type": "code",
   "execution_count": 39,
   "metadata": {},
   "outputs": [
    {
     "data": {
      "text/plain": [
       "-0.07248696"
      ]
     },
     "execution_count": 39,
     "metadata": {},
     "output_type": "execute_result"
    }
   ],
   "source": [
    "v1 = word_vectors.wv['sharp']\n",
    "v2 = model_rus.wv['буква']\n",
    "similarity(v1, v2)"
   ]
  },
  {
   "cell_type": "code",
   "execution_count": 24,
   "metadata": {
    "collapsed": true
   },
   "outputs": [],
   "source": [
    "from operator import itemgetter\n",
    "#sorted(d.items(), key=itemgetter(1))"
   ]
  },
  {
   "cell_type": "code",
   "execution_count": 63,
   "metadata": {
    "collapsed": true
   },
   "outputs": [],
   "source": [
    "from pymystem3 import Mystem\n",
    "m = Mystem()"
   ]
  },
  {
   "cell_type": "code",
   "execution_count": null,
   "metadata": {
    "collapsed": true
   },
   "outputs": [],
   "source": [
    "slick \n",
    "level\n",
    "flat\n",
    "smooth\n",
    "straight\n",
    "slippery\n",
    "greasy"
   ]
  },
  {
   "cell_type": "code",
   "execution_count": 121,
   "metadata": {},
   "outputs": [
    {
     "name": "stdout",
     "output_type": "stream",
     "text": [
      "[('острый', -0.017173517), ('любой', -0.06940489), ('готовый', -0.09806029)]\n",
      "[('тугой', 0.102023266), ('острый', -0.017173517), ('квадратный', -0.04132916)]\n",
      "[('острый', -0.017173517)]\n",
      "[('длинный', 0.0041917395), ('глубокий', -0.010771723), ('острый', -0.017173517)]\n",
      "[('черный', 0.069811605), ('тонкий', 0.016489074), ('длинный', 0.0041917395)]\n",
      "[('черный', 0.069811605)]\n",
      "[('острый', -0.017173517)]\n",
      "[('острый', -0.017173517), ('заклинательный', -0.032491483)]\n",
      "[('острый', -0.017173517), ('блестящий', -0.026738098), ('жучий', -0.03314331)]\n",
      "[('огромный', -0.087043494)]\n",
      "[('острый', -0.017173517)]\n",
      "[('острый', -0.017173517)]\n",
      "[('летний', -0.011106325), ('острый', -0.017173517), ('странный', -0.058791704)]\n",
      "[('острый', -0.017173517)]\n",
      "[('седой', 0.09042818), ('худой', 0.05393586), ('пышный', 0.0074123414)]\n"
     ]
    }
   ],
   "source": [
    "v1 = word_vectors.wv['sharp']\n",
    "final = []\n",
    "for every_align in en_rus:\n",
    "    try:\n",
    "        every_align_split = every_align.split('\\n')\n",
    "        en = ' '.join(every_align_split[0].split()[1:])\n",
    "        ru = ' '.join(every_align_split[1].split()[1:])\n",
    "        en_tagged = pos_tag.itog(en, model)\n",
    "        ru_tagged = pos_tag.itog(ru, model_ru)\n",
    "        sims = {}\n",
    "        for i, word in enumerate(ru_tagged[1]):\n",
    "            #print(word, ru_tagged[0][i])\n",
    "            word = m.lemmatize(word)[0]\n",
    "            if ru_tagged[0][i] == 'ADJ':\n",
    "                try:\n",
    "                    v2 = model_rus.wv[word]\n",
    "                    sims[word] = similarity(v1, v2)\n",
    "                except:\n",
    "                    continue\n",
    "        res_one_sent = sorted(sims.items(), key=itemgetter(1), reverse=True)\n",
    "        if len(res_one_sent) > 3:\n",
    "            res_one_sent = res_one_sent[:3]\n",
    "        print(res_one_sent)\n",
    "        for j in res_one_sent:\n",
    "            final.append(j[0])\n",
    "    except:\n",
    "        continue"
   ]
  },
  {
   "cell_type": "code",
   "execution_count": 122,
   "metadata": {},
   "outputs": [
    {
     "data": {
      "text/plain": [
       "['острый',\n",
       " 'любой',\n",
       " 'готовый',\n",
       " 'тугой',\n",
       " 'острый',\n",
       " 'квадратный',\n",
       " 'острый',\n",
       " 'длинный',\n",
       " 'глубокий',\n",
       " 'острый',\n",
       " 'черный',\n",
       " 'тонкий',\n",
       " 'длинный',\n",
       " 'черный',\n",
       " 'острый',\n",
       " 'острый',\n",
       " 'заклинательный',\n",
       " 'острый',\n",
       " 'блестящий',\n",
       " 'жучий',\n",
       " 'огромный',\n",
       " 'острый',\n",
       " 'острый',\n",
       " 'летний',\n",
       " 'острый',\n",
       " 'странный',\n",
       " 'острый',\n",
       " 'седой',\n",
       " 'худой',\n",
       " 'пышный']"
      ]
     },
     "execution_count": 122,
     "metadata": {},
     "output_type": "execute_result"
    }
   ],
   "source": [
    "final"
   ]
  },
  {
   "cell_type": "code",
   "execution_count": 123,
   "metadata": {
    "collapsed": true
   },
   "outputs": [],
   "source": [
    "from itertools import takewhile"
   ]
  },
  {
   "cell_type": "code",
   "execution_count": 124,
   "metadata": {
    "collapsed": true
   },
   "outputs": [],
   "source": [
    "from collections import Counter\n",
    "cou = Counter(final)\n",
    "lt = cou.most_common()"
   ]
  },
  {
   "cell_type": "code",
   "execution_count": 125,
   "metadata": {},
   "outputs": [
    {
     "data": {
      "text/plain": [
       "[('острый', 11),\n",
       " ('длинный', 2),\n",
       " ('черный', 2),\n",
       " ('любой', 1),\n",
       " ('готовый', 1),\n",
       " ('тугой', 1),\n",
       " ('квадратный', 1),\n",
       " ('глубокий', 1),\n",
       " ('тонкий', 1),\n",
       " ('заклинательный', 1),\n",
       " ('блестящий', 1),\n",
       " ('жучий', 1),\n",
       " ('огромный', 1),\n",
       " ('летний', 1),\n",
       " ('странный', 1),\n",
       " ('седой', 1),\n",
       " ('худой', 1),\n",
       " ('пышный', 1)]"
      ]
     },
     "execution_count": 125,
     "metadata": {},
     "output_type": "execute_result"
    }
   ],
   "source": [
    "lt"
   ]
  },
  {
   "cell_type": "code",
   "execution_count": 126,
   "metadata": {},
   "outputs": [
    {
     "data": {
      "text/plain": [
       "[('острый', 11)]"
      ]
     },
     "execution_count": 126,
     "metadata": {},
     "output_type": "execute_result"
    }
   ],
   "source": [
    "list(takewhile(lambda x: x[1] >= 10, lt))"
   ]
  },
  {
   "cell_type": "code",
   "execution_count": null,
   "metadata": {
    "collapsed": true
   },
   "outputs": [],
   "source": []
  }
 ],
 "metadata": {
  "kernelspec": {
   "display_name": "Python 3",
   "language": "python",
   "name": "python3"
  },
  "language_info": {
   "codemirror_mode": {
    "name": "ipython",
    "version": 3
   },
   "file_extension": ".py",
   "mimetype": "text/x-python",
   "name": "python",
   "nbconvert_exporter": "python",
   "pygments_lexer": "ipython3",
   "version": "3.6.3"
  }
 },
 "nbformat": 4,
 "nbformat_minor": 2
}
