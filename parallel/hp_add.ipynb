{
 "cells": [
  {
   "cell_type": "markdown",
   "metadata": {},
   "source": [
    "# Add more data to our research\n",
    "\n",
    "This an example of how we can pos-tag data if it doesn't have pos-tagging and then use function from file find_best_candidates.ipynb"
   ]
  },
  {
   "cell_type": "markdown",
   "metadata": {},
   "source": [
    "1) We create txt-file like this:"
   ]
  },
  {
   "cell_type": "code",
   "execution_count": 39,
   "metadata": {
    "collapsed": true
   },
   "outputs": [],
   "source": [
    "f = open('sharp.txt')\n",
    "file = f.read()"
   ]
  },
  {
   "cell_type": "code",
   "execution_count": 40,
   "metadata": {
    "collapsed": true
   },
   "outputs": [],
   "source": [
    "en_rus = file.split('\\n\\n')"
   ]
  },
  {
   "cell_type": "code",
   "execution_count": 41,
   "metadata": {},
   "outputs": [
    {
     "data": {
      "text/plain": [
       "['sharp He expected to feel sharp beaks and claws tearing at him any second, but nothing happened.\\nострые Он был готов к тому, что в любое мгновение в него вонзятся острые клювы и когти, но этого не произошло.',\n",
       " 'sharp She was a stern-looking witch who wore her hair in a tight bun; her sharp eyes were framed with square spectacles.\\nострые Волосы собраны в тугой пучок, сквозь квадратные очки в упор смотрят острые, живые глаза.',\n",
       " 'sharp ‘Oh, and I’ve been wanting a word with you, too, Arthur,’ said Mr Crouch, his sharp eyes falling upon Mr Weasley.\\nострый — Мистер Крауч бросил острый взгляд на мистера Уизли.',\n",
       " 'sharp Harry had gripped the Bowtruckle so hard that it had almost snapped, and it had just taken a great retaliatory swipe at his hand with its sharp fingers, leaving two long deep cuts there.\\nострыми Гарри так крепко сжал лукотруса, что чуть не сломал, и тот в отместку со всей силы царапнул его острыми пальцами, оставив на руке две длинные глубокие раны.',\n",
       " 'sharp She handed him a long, thin black quill with an unusually sharp point.\\nострым Она протянула ему черное перо, длинное и тонкое, с необычно острым кончиком.',\n",
       " 'sharp Harry raised the sharp black quill, then realised what was missing.\\nострое Гарри приподнял острое черное перо, но понял, что кое-чего не хватает.',\n",
       " 'sharp He felt a sharp pain in his knee.\\nострую Гарри почувствовал острую боль в колене.',\n",
       " 'sharp Harry agreed to test Hermione after lunch on Sunday, but regretted it almost at once; she was very agitated and kept snatching the book back from him to check that she had got the answer completely right, finally hitting him hard on the nose with the sharp edge of Achievements in Charming.\\nострым В конце концов Гарри сильно досталось по носу острым краем «Успехов заклинательных наук».',\n",
       " 'sharp Harry had been spraying only a few seconds when a fully-grown Doxy came soaring out of a fold in the material, shiny beetle-like wings whirring, tiny needle-sharp teeth bared, its fairy-like body covered with thick black hair and its four tiny fists clenched with fury.\\nострые Гарри распылял жидкость всего несколько секунд, когда из складки ткани, стрекоча блестящими жучьими крылышками и оскалив крохотные острые как иголки зубы, вылетела взрослая докси.',\n",
       " 'sharp He clicked his razor-sharp beak at their approach and turned his huge head towards them.\\nострым Когда друзья подошли ближе, он защелкал острым как бритва клювом и повернул к ним огромную голову',\n",
       " 'sharp ‘Hand that over, Harry,’ said Hermione hurriedly, ‘it says we’re supposed to puncture them with something sharp...’\\nострым — Дай сюда, Гарри, — затараторила Гермиона, — тут сказано, что его надо проткнуть чем-нибудь острым...',\n",
       " 'sharp Spots of light burst in front of his eyes and for a moment all the breath seemed to have gone from his body, then he heard a rush of wings above him and something enormous obscured the stars: Buckbeak had flown at Snape, who staggered backwards as the razor-sharp claws slashed at him.\\nострых Клювокрыл падал на Снегга, тот отшатнулся от нацеленных на него острых как бритвы когтей.',\n",
       " 'sharp A sharp pain rose in Harry’s throat at this sight: for a moment, the strange music and the knowledge that Dumbledore’s body was so close seemed to take all warmth from the day.\\nострая От этого зрелища горло Гарри сдавила острая боль; странная музыка и сознание того, что тело Дамблдора находится от него так близко, казалось, на миг лишили летний день всякого тепла.',\n",
       " 'sharp He stretched out a hand and pulled the sharp blade from the elf ’s body, then dragged off his own jacket and covered Dobby in it like a blanket.\\nострый Гарри снова посмотрел на домовика, осторожно вытянул острый кинжал из его тела, потом стащил куртку и укутал ею Добби, как одеялом.',\n",
       " 'sharp Harry whirled round and Griphook tightened his hold around Harry’s neck: a tall, thin wizard with a crown of bushy, grey hair and a long, sharp nose was striding towards them.\\nострым К ним приближался высокий худой волшебник с пышной гривой седых волос и длинным острым носом.',\n",
       " '']"
      ]
     },
     "execution_count": 41,
     "metadata": {},
     "output_type": "execute_result"
    }
   ],
   "source": [
    "en_rus"
   ]
  },
  {
   "cell_type": "markdown",
   "metadata": {},
   "source": [
    "2) We can tag our data using UD-Pipe models"
   ]
  },
  {
   "cell_type": "code",
   "execution_count": 29,
   "metadata": {
    "collapsed": true
   },
   "outputs": [],
   "source": [
    "from udpipe_model import Model"
   ]
  },
  {
   "cell_type": "code",
   "execution_count": 67,
   "metadata": {
    "collapsed": true
   },
   "outputs": [],
   "source": [
    "model_ru = Model('russian-ud-2.0-170801.udpipe')\n",
    "model = Model('english-ud-2.0-170801.udpipe')"
   ]
  },
  {
   "cell_type": "code",
   "execution_count": 68,
   "metadata": {
    "collapsed": true
   },
   "outputs": [],
   "source": [
    "import re"
   ]
  },
  {
   "cell_type": "code",
   "execution_count": 120,
   "metadata": {
    "collapsed": true
   },
   "outputs": [],
   "source": [
    "m = Mystem()"
   ]
  },
  {
   "cell_type": "code",
   "execution_count": 125,
   "metadata": {
    "collapsed": true
   },
   "outputs": [],
   "source": [
    "def get_chains(text, model1):\n",
    "    model = model1\n",
    "    sentences = model.tokenize(text)\n",
    "    for s in sentences:\n",
    "        model.tag(s)\n",
    "        model.parse(s)\n",
    "    conllu = model.write(sentences, \"conllu\")\n",
    "    rows = conllu.split('\\n')\n",
    "    #print(rows)\n",
    "    string_pos = ''\n",
    "    string_token = ''\n",
    "    for row in rows:\n",
    "        if '#' not in row and row != '':\n",
    "            #print(row)\n",
    "            pos = re.search('\\t.+?\\t.+?\\t(.+?)\\t', row).group(1)\n",
    "            token = re.search('\\t(.+?)\\t', row).group(1)\n",
    "            string_pos = string_pos + pos + ' '\n",
    "            string_token = string_token + token + ' '\n",
    "    return string_token[:-1], string_pos[:-1].split()"
   ]
  },
  {
   "cell_type": "code",
   "execution_count": 126,
   "metadata": {},
   "outputs": [
    {
     "data": {
      "text/plain": [
       "('He expected to feel sharp beaks and claws tearing at him any second , but nothing happened .',\n",
       " ['PRON',\n",
       "  'VERB',\n",
       "  'PART',\n",
       "  'VERB',\n",
       "  'ADJ',\n",
       "  'NOUN',\n",
       "  'CCONJ',\n",
       "  'NOUN',\n",
       "  'VERB',\n",
       "  'ADP',\n",
       "  'PRON',\n",
       "  'DET',\n",
       "  'NOUN',\n",
       "  'PUNCT',\n",
       "  'CCONJ',\n",
       "  'PRON',\n",
       "  'VERB',\n",
       "  'PUNCT'])"
      ]
     },
     "execution_count": 126,
     "metadata": {},
     "output_type": "execute_result"
    }
   ],
   "source": [
    "get_chains('He expected to feel sharp beaks and claws tearing at him any second, but nothing happened.', model)"
   ]
  },
  {
   "cell_type": "code",
   "execution_count": 127,
   "metadata": {
    "collapsed": true
   },
   "outputs": [],
   "source": [
    "res = []\n",
    "for each in en_rus:\n",
    "    if each != '':\n",
    "        eng_rus = each.split('\\n')\n",
    "        eng = eng_rus[0][6:]\n",
    "        rus = eng_rus[1][7:]\n",
    "        #print(eng)\n",
    "        eng_pos = get_chains(eng, model)\n",
    "        #print(eng_pos)\n",
    "        rus_pos = get_chains(rus, model_ru)\n",
    "        string_lemms_ru = m.lemmatize(rus_pos[0])\n",
    "        rus_pos_lemm = ''.join(string_lemms_ru).split()\n",
    "        res.append([(eng_pos[0].split(), eng_pos[1]), (rus_pos_lemm, rus_pos[1])])"
   ]
  },
  {
   "cell_type": "code",
   "execution_count": 128,
   "metadata": {
    "collapsed": true
   },
   "outputs": [],
   "source": [
    "from pymystem3 import Mystem"
   ]
  },
  {
   "cell_type": "code",
   "execution_count": 129,
   "metadata": {},
   "outputs": [
    {
     "data": {
      "text/plain": [
       "[(['He',\n",
       "   'expected',\n",
       "   'to',\n",
       "   'feel',\n",
       "   'sharp',\n",
       "   'beaks',\n",
       "   'and',\n",
       "   'claws',\n",
       "   'tearing',\n",
       "   'at',\n",
       "   'him',\n",
       "   'any',\n",
       "   'second',\n",
       "   ',',\n",
       "   'but',\n",
       "   'nothing',\n",
       "   'happened',\n",
       "   '.'],\n",
       "  ['PRON',\n",
       "   'VERB',\n",
       "   'PART',\n",
       "   'VERB',\n",
       "   'ADJ',\n",
       "   'NOUN',\n",
       "   'CCONJ',\n",
       "   'NOUN',\n",
       "   'VERB',\n",
       "   'ADP',\n",
       "   'PRON',\n",
       "   'DET',\n",
       "   'NOUN',\n",
       "   'PUNCT',\n",
       "   'CCONJ',\n",
       "   'PRON',\n",
       "   'VERB',\n",
       "   'PUNCT']),\n",
       " (['он',\n",
       "   'быть',\n",
       "   'готовый',\n",
       "   'к',\n",
       "   'то',\n",
       "   ',',\n",
       "   'что',\n",
       "   'в',\n",
       "   'любой',\n",
       "   'мгновение',\n",
       "   'в',\n",
       "   'он',\n",
       "   'вонзаться',\n",
       "   'острый',\n",
       "   'клюв',\n",
       "   'и',\n",
       "   'коготь',\n",
       "   ',',\n",
       "   'но',\n",
       "   'это',\n",
       "   'не',\n",
       "   'происходить',\n",
       "   '.'],\n",
       "  ['PRON',\n",
       "   'AUX',\n",
       "   'ADJ',\n",
       "   'ADP',\n",
       "   'PRON',\n",
       "   'PUNCT',\n",
       "   'SCONJ',\n",
       "   'ADP',\n",
       "   'ADJ',\n",
       "   'NOUN',\n",
       "   'ADP',\n",
       "   'PRON',\n",
       "   'VERB',\n",
       "   'ADJ',\n",
       "   'NOUN',\n",
       "   'CCONJ',\n",
       "   'NOUN',\n",
       "   'PUNCT',\n",
       "   'CCONJ',\n",
       "   'PRON',\n",
       "   'PART',\n",
       "   'VERB',\n",
       "   'PUNCT'])]"
      ]
     },
     "execution_count": 129,
     "metadata": {},
     "output_type": "execute_result"
    }
   ],
   "source": [
    "res[0]"
   ]
  },
  {
   "cell_type": "markdown",
   "metadata": {},
   "source": [
    "Then we do the same thing that was performes in file find_best_candidates.ipynb"
   ]
  },
  {
   "cell_type": "code",
   "execution_count": 130,
   "metadata": {
    "collapsed": true
   },
   "outputs": [],
   "source": [
    "possible = []\n",
    "for every_sent in res:\n",
    "    #print('---')\n",
    "    #print(every_sent[1][1])\n",
    "    i = 0\n",
    "    for every_ru_sent in every_sent[1][1]:\n",
    "        if every_ru_sent == 'ADJ':\n",
    "            possible.append(every_sent[1][0][i])\n",
    "        i += 1"
   ]
  },
  {
   "cell_type": "code",
   "execution_count": 131,
   "metadata": {},
   "outputs": [
    {
     "data": {
      "text/plain": [
       "['готовый',\n",
       " 'любой',\n",
       " 'острый',\n",
       " 'тугой',\n",
       " 'квадратный',\n",
       " 'острый',\n",
       " 'живой',\n",
       " 'острый',\n",
       " 'острый',\n",
       " 'длинный',\n",
       " 'глубокий',\n",
       " 'черный',\n",
       " 'длинный',\n",
       " 'тонкий',\n",
       " 'острый',\n",
       " 'черный',\n",
       " 'острый',\n",
       " 'острый',\n",
       " 'заклинательный',\n",
       " 'блестящий',\n",
       " 'жучий',\n",
       " 'крохотный',\n",
       " 'острый',\n",
       " 'огромный',\n",
       " 'острый',\n",
       " 'острый',\n",
       " 'острый',\n",
       " 'странный',\n",
       " 'летний',\n",
       " 'острый',\n",
       " 'высокий',\n",
       " 'худой',\n",
       " 'пышный',\n",
       " 'седой',\n",
       " 'длинный',\n",
       " 'острый']"
      ]
     },
     "execution_count": 131,
     "metadata": {},
     "output_type": "execute_result"
    }
   ],
   "source": [
    "possible"
   ]
  },
  {
   "cell_type": "code",
   "execution_count": 132,
   "metadata": {
    "collapsed": true
   },
   "outputs": [],
   "source": [
    "from collections import Counter\n",
    "cou = Counter(possible)\n",
    "lt = cou.most_common()"
   ]
  },
  {
   "cell_type": "code",
   "execution_count": 133,
   "metadata": {},
   "outputs": [
    {
     "data": {
      "text/plain": [
       "[('острый', 13),\n",
       " ('длинный', 3),\n",
       " ('черный', 2),\n",
       " ('готовый', 1),\n",
       " ('любой', 1),\n",
       " ('тугой', 1),\n",
       " ('квадратный', 1),\n",
       " ('живой', 1),\n",
       " ('глубокий', 1),\n",
       " ('тонкий', 1),\n",
       " ('заклинательный', 1),\n",
       " ('блестящий', 1),\n",
       " ('жучий', 1),\n",
       " ('крохотный', 1),\n",
       " ('огромный', 1),\n",
       " ('странный', 1),\n",
       " ('летний', 1),\n",
       " ('высокий', 1),\n",
       " ('худой', 1),\n",
       " ('пышный', 1),\n",
       " ('седой', 1)]"
      ]
     },
     "execution_count": 133,
     "metadata": {},
     "output_type": "execute_result"
    }
   ],
   "source": [
    "lt"
   ]
  }
 ],
 "metadata": {
  "kernelspec": {
   "display_name": "Python 3",
   "language": "python",
   "name": "python3"
  },
  "language_info": {
   "codemirror_mode": {
    "name": "ipython",
    "version": 3
   },
   "file_extension": ".py",
   "mimetype": "text/x-python",
   "name": "python",
   "nbconvert_exporter": "python",
   "pygments_lexer": "ipython3",
   "version": "3.6.3"
  }
 },
 "nbformat": 4,
 "nbformat_minor": 2
}
