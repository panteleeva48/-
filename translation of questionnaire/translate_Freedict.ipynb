{
 "cells": [
  {
   "cell_type": "markdown",
   "metadata": {},
   "source": [
    "### Перевод Freedict"
   ]
  },
  {
   "cell_type": "code",
   "execution_count": null,
   "metadata": {},
   "outputs": [],
   "source": [
    "def parser_Freedict(file_name):\n",
    "    tree = ET.parse(file_name)\n",
    "    root = tree.getroot()\n",
    "    return root\n",
    "\n",
    "def adj_translate_freedict(adjs_source, root):\n",
    "    output = set()\n",
    "    for entry in root.iter('entry'):\n",
    "        if entry[0][0].text in adjs_source:\n",
    "            for sense in entry.iter('sense'):\n",
    "                if sense.get('n') == '1' or len(sense.attrib) == 0:\n",
    "                    for quote in sense.iter('quote'):\n",
    "                        output.add(quote.text)\n",
    "    return output\n",
    "\n",
    "def nom_translate_freedict(nouns_source, root):\n",
    "    output = []\n",
    "    for i in range(0, len(nouns_source)):\n",
    "        a = []\n",
    "        for entry in root.iter('entry'):\n",
    "            if entry[0][0].text == nouns_source[i]:\n",
    "                for sense in entry.iter('sense'):\n",
    "                    if sense.get('n') == '1' or len(sense.attrib) == 0:\n",
    "                        for quote in sense.iter('quote'):\n",
    "                            a.append(quote.text)\n",
    "        output.append(a)\n",
    "    return output\n",
    "\n",
    "def nom_back_translate_Free(original, translated, root):\n",
    "    output = []\n",
    "    for i in range(0, len(translated)):\n",
    "        word = ''\n",
    "        for j in range(0, len(translated[i])):\n",
    "            for entry in root.iter('entry'):\n",
    "                if entry[0][0].text == translated[i][j]:\n",
    "                    for sense in entry.iter('sense'):\n",
    "                        if sense.get('n') == '1' or len(sense.attrib) == 0:\n",
    "                            for quote in sense.iter('quote'):\n",
    "                                if quote.text == original[i]:\n",
    "                                    word = entry[0][0].text\n",
    "        output.append(word)\n",
    "    return output\n",
    "\n",
    "def adj_back_translate_Free(original, translated, root):\n",
    "    \"\"\"обратный перевод прилагательных с помощью FreeDict, учитывает все слова в первом значении и не удаляет невстретившиеся\"\"\"\n",
    "    output = translated.copy()\n",
    "    for word in translated:\n",
    "        a = set()\n",
    "        for entry in root.iter('entry'):\n",
    "            if entry[0][0].text == word:\n",
    "                for sense in entry.iter('sense'):\n",
    "                    if sense.get('n') == '1' or len(sense.attrib) == 0:\n",
    "                        for quote in sense.iter('quote'):\n",
    "                            a.add(quote.text)\n",
    "        if len(a) != 0 and len(set(original)&a) == 0:\n",
    "            output.remove(word)\n",
    "    return output"
   ]
  },
  {
   "cell_type": "code",
   "execution_count": null,
   "metadata": {},
   "outputs": [],
   "source": [
    "def translate_adjs_with_Freedict(dict_source_to_target, dict_target_to_source, adjs_source):\n",
    "    root_source_to_target = parser(dict_source_to_target)\n",
    "    root_target_to_source = parser(dict_target_to_source)\n",
    "    return adj_back_translate_Free(adjs_source, adj_translate_Freedict(adjs_source, root_source_to_target), root_target_to_source)\n",
    "\n",
    "def translate_nouns_with_Freedict(dict_source_to_target, dict_target_to_source, nouns_source):\n",
    "    root_source_to_target = parser(dict_source_to_target)\n",
    "    root_target_to_source = parser(dict_target_to_source)\n",
    "    return nouns_back_translate_Free(nouns_source, nouns_translate_Freedict(nouns_source, root_source_to_target), root_target_to_source)"
   ]
  }
 ],
 "metadata": {
  "kernelspec": {
   "display_name": "Python 3",
   "language": "python",
   "name": "python3"
  },
  "language_info": {
   "codemirror_mode": {
    "name": "ipython",
    "version": 3
   },
   "file_extension": ".py",
   "mimetype": "text/x-python",
   "name": "python",
   "nbconvert_exporter": "python",
   "pygments_lexer": "ipython3",
   "version": "3.6.3"
  }
 },
 "nbformat": 4,
 "nbformat_minor": 2
}
