{
 "cells": [
  {
   "cell_type": "code",
   "execution_count": 1,
   "metadata": {},
   "outputs": [],
   "source": [
    "import xml.etree.ElementTree as ET"
   ]
  },
  {
   "cell_type": "code",
   "execution_count": 54,
   "metadata": {},
   "outputs": [],
   "source": [
    "def Verdict_to_list(dict_name):\n",
    "    \"\"\"Make Verdict dictionary machine readable\"\"\"\n",
    "    d = open(dict_name, 'r', encoding = 'utf-8').read()\n",
    "    lines = d.split('\\n')\n",
    "    words_with_infa = []\n",
    "    for i in lines:\n",
    "        words_with_infa.append(i.split('\\t'))\n",
    "    return words_with_infa[:-1]\n",
    "    \n",
    "def Verdict_translate_adjectives(adjs_source, dict_name):\n",
    "    \"\"\"Translate adjectives from one lng to another with Verdict dictionary\"\"\"\n",
    "    d = Verdict_to_list(dict_name)\n",
    "    adjs_target = set()\n",
    "    for adj in adjs_source:\n",
    "        for word in d:\n",
    "            if (adj in word[2]) and (word[1] == 'Прилагательное'):\n",
    "                adjs_target.add(word[0])\n",
    "    return adjs_target\n",
    "\n",
    "def Verdict_translate_nouns(nouns_source, dict_name, word_to_word = True):\n",
    "    \"\"\"Translate nouns from one lng to another with Verdict dictionary\"\"\"\n",
    "    \"\"\"If word_to_word parameter is True than returns all possible translates of nouns due to Veridct\"\"\"\n",
    "    d = Verdict_to_list(dict_name)\n",
    "    nouns_target = [''] * len(nouns_source)\n",
    "    for i in range(len(nouns_source)):\n",
    "        flag = False\n",
    "        if word_to_word == True:\n",
    "            for word in d:\n",
    "                if (nouns_source.split(' ')[0] == word[2]) and (word[1] == 'Существительное'):\n",
    "                    nouns_target[i] = word[0]\n",
    "                    flag = True\n",
    "                if flag == False:\n",
    "                    if nouns_source[i].split(' ')[0] in word[2].split(' ') and (word[1] == 'Существительное'):\n",
    "                        nouns_target[i] = word[0]\n",
    "        else:\n",
    "            nouns_target.append({})\n",
    "            nouns_target[i][nouns_source[i]] = []\n",
    "            for words in words:\n",
    "                if (nouns_source[i].split(' ')[0] == word[2]) and (word[1] == 'Существительное'):\n",
    "                    nouns_target[i][nouns_source[i]].append(word[0])\n",
    "                    flag = True\n",
    "                if flag == False:\n",
    "                    if nouns_source[i].split(' ')[0] in word[2].split(' ') and (word[1] == 'Существительное'):\n",
    "                        nouns_target[i][nouns_source[i]].append(word[0])\n",
    "    return nouns_target\n",
    "\n",
    "def metrics_accuracy(word_predict, words):\n",
    "    print(len(words_predict & words), 'нужных прилагательных:', words_predict & words)\n",
    "    print(len(words_predict - words), 'ненужных прилагательных:', words_predict - words)\n",
    "    \n",
    "def parser(file_name):\n",
    "    tree = ET.parse(file_name)\n",
    "    root = tree.getroot()\n",
    "    return root\n",
    "\n",
    "def adj_translate_freedict(adjs_source, root):\n",
    "    output = set()\n",
    "    for entry in root.iter('entry'):\n",
    "        if entry[0][0].text in adjs_source:\n",
    "            for sense in entry.iter('sense'):\n",
    "                if sense.get('n') == '1' or len(sense.attrib) == 0:\n",
    "                    for quote in sense.iter('quote'):\n",
    "                        output.add(quote.text)\n",
    "    return output\n",
    "\n",
    "def nom_translate_freedict(nouns_source, root):\n",
    "    output = []\n",
    "    for i in range(0, len(nouns_source)):\n",
    "        a = []\n",
    "        for entry in root.iter('entry'):\n",
    "            if entry[0][0].text == nouns_source[i]:\n",
    "                for sense in entry.iter('sense'):\n",
    "                    if sense.get('n') == '1' or len(sense.attrib) == 0:\n",
    "                        for quote in sense.iter('quote'):\n",
    "                            a.append(quote.text)\n",
    "        output.append(a)\n",
    "    return output\n",
    "\n",
    "def nom_back_translate_Free(original, translated, root):\n",
    "    output = []\n",
    "    for i in range(0, len(translated)):\n",
    "        word = ''\n",
    "        for j in range(0, len(translated[i])):\n",
    "            for entry in root.iter('entry'):\n",
    "                if entry[0][0].text == translated[i][j]:\n",
    "                    for sense in entry.iter('sense'):\n",
    "                        if sense.get('n') == '1' or len(sense.attrib) == 0:\n",
    "                            for quote in sense.iter('quote'):\n",
    "                                if quote.text == original[i]:\n",
    "                                    word = entry[0][0].text\n",
    "        output.append(word)\n",
    "    return output\n",
    "\n",
    "def adj_back_translate_Free(original, translated, root):\n",
    "    \"\"\"обратный перевод прилагательных с помощью FreeDict, учитывает все слова в первом значении и не удаляет невстретившиеся\"\"\"\n",
    "    output = translated.copy()\n",
    "    for word in translated:\n",
    "        a = set()\n",
    "        for entry in root.iter('entry'):\n",
    "            if entry[0][0].text == word:\n",
    "                for sense in entry.iter('sense'):\n",
    "                    if sense.get('n') == '1' or len(sense.attrib) == 0:\n",
    "                        for quote in sense.iter('quote'):\n",
    "                            a.add(quote.text)\n",
    "        if len(a) != 0 and len(set(original)&a) == 0:\n",
    "            output.remove(word)\n",
    "    return output\n",
    "\n",
    "\n",
    "def freedict_holes(Verd, Free):\n",
    "    for i in range(0, len(Free)):\n",
    "        if Free[i] == '' and Verd[i] != '':\n",
    "            Free[i] = Verd[i]\n",
    "    return Free\n",
    "\n",
    "def translate_adjs_with_Freedict(dict_source_to_target, dict_target_to_source, adjs_source):\n",
    "    root_source_to_target = parser(dict_source_to_target)\n",
    "    root_target_to_source = parser(dict_target_to_source)\n",
    "    return adj_back_translate_Free(adjs_source, adj_translate_freedict(adjs_source, root_source_to_target), root_target_to_source)\n",
    "\n",
    "def translate_nouns_with_Freedict(dict_source_to_target, dict_target_to_source, nouns_source):\n",
    "    root_source_to_target = parser(dict_source_to_target)\n",
    "    root_target_to_source = parser(dict_target_to_source)\n",
    "    return nouns_back_translate_Free(nouns_source, nouns_translate_freedict(nouns_source, root_source_to_target), root_target_to_source)"
   ]
  },
  {
   "cell_type": "code",
   "execution_count": 3,
   "metadata": {},
   "outputs": [],
   "source": [
    "def translate_adjs_with_Freedict_and_Verdict(Freedict_source_to_target, Freedict_target_to_source, adjs_source_en, adjs_source_ru, Verdict_name):\n",
    "    adjs_Freedict = translate_adjs_with_Freedict(Freedict_source_to_target, Freedict_target_to_source, adjs_source_en)\n",
    "    adjs_Verdict = Verdict_translate_adjectives(adjs_source_ru, Verdict_name)\n",
    "    return adjs_Freedict | adjs_Verdict\n",
    "\n",
    "def translate_nouns_with_Freedict_and_Verdict(Freedict_source_to_target, Freedict_target_to_source, nouns_source, Verdict_name):\n",
    "    nouns_Freedict = translate_nouns_with_Freedict(Freedict_source_to_target, Freedict_target_to_source, nouns_source)\n",
    "    nouns_Verdict = Verdict_translate_nouns(nouns_source, Verdict_name)\n",
    "    nouns_target = freedict_holes(nouns_Verdict, nouns_Freedict)\n",
    "    return nouns_target"
   ]
  },
  {
   "cell_type": "code",
   "execution_count": 60,
   "metadata": {},
   "outputs": [
    {
     "data": {
      "text/plain": [
       "set()"
      ]
     },
     "execution_count": 60,
     "metadata": {},
     "output_type": "execute_result"
    }
   ],
   "source": [
    "adj_translate_freedict(adjs_source=['sharp'], \n",
    "                       root=parser('eng-rus.tei'))"
   ]
  },
  {
   "cell_type": "code",
   "execution_count": 58,
   "metadata": {},
   "outputs": [
    {
     "data": {
      "text/plain": [
       "{'квартира'}"
      ]
     },
     "execution_count": 58,
     "metadata": {},
     "output_type": "execute_result"
    }
   ],
   "source": [
    "adj_translate_freedict(adjs_source=['slick', 'level', 'flat', 'smooth', 'straight', 'slippery', 'greasy'], \n",
    "                       root=parser('eng-rus.tei'))"
   ]
  },
  {
   "cell_type": "code",
   "execution_count": 59,
   "metadata": {},
   "outputs": [
    {
     "data": {
      "text/plain": [
       "{'большой', 'широкий'}"
      ]
     },
     "execution_count": 59,
     "metadata": {},
     "output_type": "execute_result"
    }
   ],
   "source": [
    "adj_translate_freedict(adjs_source=['thick', 'thin', 'broad', 'narrow', 'wide', 'large', 'spacious'],\n",
    "                      root=parser('eng-rus.tei'))"
   ]
  },
  {
   "cell_type": "code",
   "execution_count": 61,
   "metadata": {},
   "outputs": [
    {
     "data": {
      "text/plain": [
       "{'au milie de', 'coupant', 'dans', 'en', 'parmi', 'tranchant', 'à'}"
      ]
     },
     "execution_count": 61,
     "metadata": {},
     "output_type": "execute_result"
    }
   ],
   "source": [
    "translate_adjs_with_Freedict(dict_source_to_target='eng-fra.tei', \n",
    "                             dict_target_to_source='fra-eng.tei', \n",
    "                             adjs_source='sharp')"
   ]
  },
  {
   "cell_type": "code",
   "execution_count": 62,
   "metadata": {},
   "outputs": [
    {
     "data": {
      "text/plain": [
       "{'appartement', 'direct', 'droit', 'glissant', 'gras', 'plat', 'uni'}"
      ]
     },
     "execution_count": 62,
     "metadata": {},
     "output_type": "execute_result"
    }
   ],
   "source": [
    "translate_adjs_with_Freedict(dict_source_to_target='eng-fra.tei', \n",
    "                             dict_target_to_source='fra-eng.tei', \n",
    "                             adjs_source=['slick', 'level', 'flat', 'smooth', 'straight', 'slippery', 'greasy'])"
   ]
  },
  {
   "cell_type": "code",
   "execution_count": 63,
   "metadata": {},
   "outputs": [
    {
     "data": {
      "text/plain": [
       "{'ample', 'dense', 'grand', 'large', 'maigre', 'étendu', 'étroit'}"
      ]
     },
     "execution_count": 63,
     "metadata": {},
     "output_type": "execute_result"
    }
   ],
   "source": [
    "translate_adjs_with_Freedict(dict_source_to_target='eng-fra.tei', \n",
    "                             dict_target_to_source='fra-eng.tei', \n",
    "                             adjs_source=['thick', 'thin', 'broad', 'narrow', 'wide', 'large', 'spacious'])"
   ]
  },
  {
   "cell_type": "code",
   "execution_count": 64,
   "metadata": {},
   "outputs": [
    {
     "data": {
      "text/plain": [
       "{'ein'}"
      ]
     },
     "execution_count": 64,
     "metadata": {},
     "output_type": "execute_result"
    }
   ],
   "source": [
    "translate_adjs_with_Freedict(dict_source_to_target='eng-deu.tei', \n",
    "                             dict_target_to_source='deu-eng.tei', \n",
    "                             adjs_source='sharp')"
   ]
  },
  {
   "cell_type": "code",
   "execution_count": 65,
   "metadata": {},
   "outputs": [
    {
     "data": {
      "text/plain": [
       "{'Ebene',\n",
       " 'Fläche',\n",
       " 'Höhe',\n",
       " 'Level',\n",
       " 'Libelle',\n",
       " 'Mietwohnung',\n",
       " 'Niveau',\n",
       " 'Pegel',\n",
       " 'Pegel  (Wasser-)',\n",
       " 'Plattfuß',\n",
       " 'Reifenpanne',\n",
       " 'Schwellwert',\n",
       " 'Slick',\n",
       " 'Stand',\n",
       " 'Stufe',\n",
       " 'Wasserwaage',\n",
       " 'Wohnung',\n",
       " '[Miet-]Wohnung',\n",
       " 'aalglatt',\n",
       " 'ausgeglichen (Sport)',\n",
       " 'direkt',\n",
       " 'eben',\n",
       " 'fettig',\n",
       " 'flach',\n",
       " 'gerade',\n",
       " 'geradewegs',\n",
       " 'gerissen',\n",
       " 'geschmacklos',\n",
       " 'glatt',\n",
       " 'gleichmäßig',\n",
       " 'glitschig',\n",
       " 'glätten',\n",
       " 'mild',\n",
       " 'rein',\n",
       " 'rutschig',\n",
       " 'schlüpfrig',\n",
       " 'schmalzig',\n",
       " 'schmierig',\n",
       " 'unmittelbar',\n",
       " 'unverfälscht',\n",
       " 'waagerecht'}"
      ]
     },
     "execution_count": 65,
     "metadata": {},
     "output_type": "execute_result"
    }
   ],
   "source": [
    "translate_adjs_with_Freedict(dict_source_to_target='eng-deu.tei', \n",
    "                             dict_target_to_source='deu-eng.tei', \n",
    "                             adjs_source=['slick', 'level', 'flat', 'smooth', 'straight', 'slippery', 'greasy'])"
   ]
  },
  {
   "cell_type": "code",
   "execution_count": 66,
   "metadata": {},
   "outputs": [
    {
     "data": {
      "text/plain": [
       "{'Anlage)',\n",
       " 'Breite',\n",
       " 'begrenzte',\n",
       " 'breit',\n",
       " 'deutliche',\n",
       " 'dicht',\n",
       " 'dick',\n",
       " 'dünn',\n",
       " 'dünn werden',\n",
       " 'eng',\n",
       " 'geräumig',\n",
       " 'groß',\n",
       " 'großzügig (Planung',\n",
       " 'knapp',\n",
       " 'reichlich',\n",
       " 'schmal',\n",
       " 'umfangreich',\n",
       " 'weit',\n",
       " 'weiträumig'}"
      ]
     },
     "execution_count": 66,
     "metadata": {},
     "output_type": "execute_result"
    }
   ],
   "source": [
    "translate_adjs_with_Freedict(dict_source_to_target='eng-deu.tei', \n",
    "                             dict_target_to_source='deu-eng.tei', \n",
    "                             adjs_source=['thick', 'thin', 'broad', 'narrow', 'wide', 'large', 'spacious'])"
   ]
  },
  {
   "cell_type": "code",
   "execution_count": 67,
   "metadata": {},
   "outputs": [
    {
     "ename": "FileNotFoundError",
     "evalue": "[Errno 2] No such file or directory: 'eng-it.tei'",
     "output_type": "error",
     "traceback": [
      "\u001b[0;31m---------------------------------------------------------------------------\u001b[0m",
      "\u001b[0;31mFileNotFoundError\u001b[0m                         Traceback (most recent call last)",
      "\u001b[0;32m<ipython-input-67-b3a6b4f5e53d>\u001b[0m in \u001b[0;36m<module>\u001b[0;34m()\u001b[0m\n\u001b[1;32m      1\u001b[0m translate_adjs_with_Freedict(dict_source_to_target='eng-it.tei', \n\u001b[1;32m      2\u001b[0m                              \u001b[0mdict_target_to_source\u001b[0m\u001b[0;34m=\u001b[0m\u001b[0;34m'it-eng.tei'\u001b[0m\u001b[0;34m,\u001b[0m\u001b[0;34m\u001b[0m\u001b[0m\n\u001b[0;32m----> 3\u001b[0;31m                              adjs_source=['thick', 'thin', 'broad', 'narrow', 'wide', 'large', 'spacious'])\n\u001b[0m",
      "\u001b[0;32m<ipython-input-54-fd80e17ef74a>\u001b[0m in \u001b[0;36mtranslate_adjs_with_Freedict\u001b[0;34m(dict_source_to_target, dict_target_to_source, adjs_source)\u001b[0m\n\u001b[1;32m    115\u001b[0m \u001b[0;34m\u001b[0m\u001b[0m\n\u001b[1;32m    116\u001b[0m \u001b[0;32mdef\u001b[0m \u001b[0mtranslate_adjs_with_Freedict\u001b[0m\u001b[0;34m(\u001b[0m\u001b[0mdict_source_to_target\u001b[0m\u001b[0;34m,\u001b[0m \u001b[0mdict_target_to_source\u001b[0m\u001b[0;34m,\u001b[0m \u001b[0madjs_source\u001b[0m\u001b[0;34m)\u001b[0m\u001b[0;34m:\u001b[0m\u001b[0;34m\u001b[0m\u001b[0m\n\u001b[0;32m--> 117\u001b[0;31m     \u001b[0mroot_source_to_target\u001b[0m \u001b[0;34m=\u001b[0m \u001b[0mparser\u001b[0m\u001b[0;34m(\u001b[0m\u001b[0mdict_source_to_target\u001b[0m\u001b[0;34m)\u001b[0m\u001b[0;34m\u001b[0m\u001b[0m\n\u001b[0m\u001b[1;32m    118\u001b[0m     \u001b[0mroot_target_to_source\u001b[0m \u001b[0;34m=\u001b[0m \u001b[0mparser\u001b[0m\u001b[0;34m(\u001b[0m\u001b[0mdict_target_to_source\u001b[0m\u001b[0;34m)\u001b[0m\u001b[0;34m\u001b[0m\u001b[0m\n\u001b[1;32m    119\u001b[0m     \u001b[0;32mreturn\u001b[0m \u001b[0madj_back_translate_Free\u001b[0m\u001b[0;34m(\u001b[0m\u001b[0madjs_source\u001b[0m\u001b[0;34m,\u001b[0m \u001b[0madj_translate_freedict\u001b[0m\u001b[0;34m(\u001b[0m\u001b[0madjs_source\u001b[0m\u001b[0;34m,\u001b[0m \u001b[0mroot_source_to_target\u001b[0m\u001b[0;34m)\u001b[0m\u001b[0;34m,\u001b[0m \u001b[0mroot_target_to_source\u001b[0m\u001b[0;34m)\u001b[0m\u001b[0;34m\u001b[0m\u001b[0m\n",
      "\u001b[0;32m<ipython-input-54-fd80e17ef74a>\u001b[0m in \u001b[0;36mparser\u001b[0;34m(file_name)\u001b[0m\n\u001b[1;32m     50\u001b[0m \u001b[0;34m\u001b[0m\u001b[0m\n\u001b[1;32m     51\u001b[0m \u001b[0;32mdef\u001b[0m \u001b[0mparser\u001b[0m\u001b[0;34m(\u001b[0m\u001b[0mfile_name\u001b[0m\u001b[0;34m)\u001b[0m\u001b[0;34m:\u001b[0m\u001b[0;34m\u001b[0m\u001b[0m\n\u001b[0;32m---> 52\u001b[0;31m     \u001b[0mtree\u001b[0m \u001b[0;34m=\u001b[0m \u001b[0mET\u001b[0m\u001b[0;34m.\u001b[0m\u001b[0mparse\u001b[0m\u001b[0;34m(\u001b[0m\u001b[0mfile_name\u001b[0m\u001b[0;34m)\u001b[0m\u001b[0;34m\u001b[0m\u001b[0m\n\u001b[0m\u001b[1;32m     53\u001b[0m     \u001b[0mroot\u001b[0m \u001b[0;34m=\u001b[0m \u001b[0mtree\u001b[0m\u001b[0;34m.\u001b[0m\u001b[0mgetroot\u001b[0m\u001b[0;34m(\u001b[0m\u001b[0;34m)\u001b[0m\u001b[0;34m\u001b[0m\u001b[0m\n\u001b[1;32m     54\u001b[0m     \u001b[0;32mreturn\u001b[0m \u001b[0mroot\u001b[0m\u001b[0;34m\u001b[0m\u001b[0m\n",
      "\u001b[0;32m/Library/Frameworks/Python.framework/Versions/3.6/lib/python3.6/xml/etree/ElementTree.py\u001b[0m in \u001b[0;36mparse\u001b[0;34m(source, parser)\u001b[0m\n\u001b[1;32m   1194\u001b[0m     \"\"\"\n\u001b[1;32m   1195\u001b[0m     \u001b[0mtree\u001b[0m \u001b[0;34m=\u001b[0m \u001b[0mElementTree\u001b[0m\u001b[0;34m(\u001b[0m\u001b[0;34m)\u001b[0m\u001b[0;34m\u001b[0m\u001b[0m\n\u001b[0;32m-> 1196\u001b[0;31m     \u001b[0mtree\u001b[0m\u001b[0;34m.\u001b[0m\u001b[0mparse\u001b[0m\u001b[0;34m(\u001b[0m\u001b[0msource\u001b[0m\u001b[0;34m,\u001b[0m \u001b[0mparser\u001b[0m\u001b[0;34m)\u001b[0m\u001b[0;34m\u001b[0m\u001b[0m\n\u001b[0m\u001b[1;32m   1197\u001b[0m     \u001b[0;32mreturn\u001b[0m \u001b[0mtree\u001b[0m\u001b[0;34m\u001b[0m\u001b[0m\n\u001b[1;32m   1198\u001b[0m \u001b[0;34m\u001b[0m\u001b[0m\n",
      "\u001b[0;32m/Library/Frameworks/Python.framework/Versions/3.6/lib/python3.6/xml/etree/ElementTree.py\u001b[0m in \u001b[0;36mparse\u001b[0;34m(self, source, parser)\u001b[0m\n\u001b[1;32m    584\u001b[0m         \u001b[0mclose_source\u001b[0m \u001b[0;34m=\u001b[0m \u001b[0;32mFalse\u001b[0m\u001b[0;34m\u001b[0m\u001b[0m\n\u001b[1;32m    585\u001b[0m         \u001b[0;32mif\u001b[0m \u001b[0;32mnot\u001b[0m \u001b[0mhasattr\u001b[0m\u001b[0;34m(\u001b[0m\u001b[0msource\u001b[0m\u001b[0;34m,\u001b[0m \u001b[0;34m\"read\"\u001b[0m\u001b[0;34m)\u001b[0m\u001b[0;34m:\u001b[0m\u001b[0;34m\u001b[0m\u001b[0m\n\u001b[0;32m--> 586\u001b[0;31m             \u001b[0msource\u001b[0m \u001b[0;34m=\u001b[0m \u001b[0mopen\u001b[0m\u001b[0;34m(\u001b[0m\u001b[0msource\u001b[0m\u001b[0;34m,\u001b[0m \u001b[0;34m\"rb\"\u001b[0m\u001b[0;34m)\u001b[0m\u001b[0;34m\u001b[0m\u001b[0m\n\u001b[0m\u001b[1;32m    587\u001b[0m             \u001b[0mclose_source\u001b[0m \u001b[0;34m=\u001b[0m \u001b[0;32mTrue\u001b[0m\u001b[0;34m\u001b[0m\u001b[0m\n\u001b[1;32m    588\u001b[0m         \u001b[0;32mtry\u001b[0m\u001b[0;34m:\u001b[0m\u001b[0;34m\u001b[0m\u001b[0m\n",
      "\u001b[0;31mFileNotFoundError\u001b[0m: [Errno 2] No such file or directory: 'eng-it.tei'"
     ]
    }
   ],
   "source": [
    "translate_adjs_with_Freedict(dict_source_to_target='eng-it.tei', \n",
    "                             dict_target_to_source='it-eng.tei', \n",
    "                             adjs_source=['thick', 'thin', 'broad', 'narrow', 'wide', 'large', 'spacious'])"
   ]
  },
  {
   "cell_type": "code",
   "execution_count": null,
   "metadata": {},
   "outputs": [],
   "source": []
  }
 ],
 "metadata": {
  "kernelspec": {
   "display_name": "Python 3.6",
   "language": "python",
   "name": "python3"
  },
  "language_info": {
   "codemirror_mode": {
    "name": "ipython",
    "version": 3
   },
   "file_extension": ".py",
   "mimetype": "text/x-python",
   "name": "python",
   "nbconvert_exporter": "python",
   "pygments_lexer": "ipython3",
   "version": "3.6.3"
  }
 },
 "nbformat": 4,
 "nbformat_minor": 2
}
