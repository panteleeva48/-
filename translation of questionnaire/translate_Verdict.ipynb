{
 "cells": [
  {
   "cell_type": "markdown",
   "metadata": {},
   "source": [
    "### Перевод анкеты с помощью словарей Verdict"
   ]
  },
  {
   "cell_type": "code",
   "execution_count": null,
   "metadata": {},
   "outputs": [],
   "source": [
    "def Verdict_to_list(dict_name):\n",
    "    \"\"\"Make Verdict dictionary machine readable\"\"\"\n",
    "    d = open(dict_name, 'r', encoding = 'utf-8').read()\n",
    "    lines = d.split('\\n')\n",
    "    words_with_infa = []\n",
    "    for i in lines:\n",
    "        words_with_infa.append(i.split('\\t'))\n",
    "    return words_with_infa[:-1]\n",
    "    \n",
    "def Verdict_translate_adjectives(adjs_source, dict_name):\n",
    "    \"\"\"Translate adjectives from one lng to another with Verdict dictionary\"\"\"\n",
    "    d = Verdict_to_list(dict_name)\n",
    "    adjs_target = set()\n",
    "    for adj in adjs_source:\n",
    "        for word in d:\n",
    "            if (adj in word[2]) and (word[1] == 'Прилагательное'):\n",
    "                adjs_target.add(word[0])\n",
    "    return adjs_target\n",
    "\n",
    "def Verdict_translate_nouns(nouns_source, dict_name, word_to_word = True):\n",
    "    \"\"\"Translate nouns from one lng to another with Verdict dictionary\"\"\"\n",
    "    d = Verdict_to_list(dict_name)\n",
    "    nouns_target = [''] * len(nouns_source)\n",
    "    for i in range(len(nouns_source)):\n",
    "        flag = False\n",
    "        if word_to_word == True:\n",
    "            for word in d:\n",
    "                if (nouns_source.split(' ')[0] == word[2]) and (word[1] == 'Существительное'):\n",
    "                    nouns_target[i] = word[0]\n",
    "                    flag = True\n",
    "                if flag == False:\n",
    "                    if nouns_source[i].split(' ')[0] in word[2].split(' ') and (word[1] == 'Существительное'):\n",
    "                        nouns_target[i] = word[0]\n",
    "        else:\n",
    "        \"\"\"If word_to_word parameter is True than returns all possible translates of nouns due to Veridct\"\"\"\n",
    "            nouns_target.append({})\n",
    "            nouns_target[i][nouns_source[i]] = []\n",
    "            for words in words:\n",
    "                if (nouns_source[i].split(' ')[0] == word[2]) and (word[1] == 'Существительное'):\n",
    "                    nouns_target[i][nouns_source[i]].append(word[0])\n",
    "                    flag = True\n",
    "                if flag == False:\n",
    "                    if nouns_source[i].split(' ')[0] in word[2].split(' ') and (word[1] == 'Существительное'):\n",
    "                        nouns_target[i][nouns_source[i]].append(word[0])\n",
    "    return nouns_target\n",
    "\n",
    "def metrics_accuracy(word_predict, words):\n",
    "    print(len(words_predict & words), 'нужных прилагательных:', words_predict & words)\n",
    "    print(len(words_predict - words), 'ненужных прилагательных:', words_predict - words)"
   ]
  }
 ],
 "metadata": {
  "anaconda-cloud": {},
  "kernelspec": {
   "display_name": "Python 3",
   "language": "python",
   "name": "python3"
  },
  "language_info": {
   "codemirror_mode": {
    "name": "ipython",
    "version": 3
   },
   "file_extension": ".py",
   "mimetype": "text/x-python",
   "name": "python",
   "nbconvert_exporter": "python",
   "pygments_lexer": "ipython3",
   "version": "3.6.3"
  }
 },
 "nbformat": 4,
 "nbformat_minor": 1
}
