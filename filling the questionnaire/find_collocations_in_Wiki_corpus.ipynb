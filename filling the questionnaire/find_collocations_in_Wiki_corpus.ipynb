{
 "cells": [
  {
   "cell_type": "code",
   "execution_count": 2,
   "metadata": {
    "collapsed": true
   },
   "outputs": [],
   "source": [
    "import re\n",
    "import xlrd, xlwt\n",
    "import numpy as np"
   ]
  },
  {
   "cell_type": "markdown",
   "metadata": {},
   "source": [
    "### Поиск коллокаций в Википедии"
   ]
  },
  {
   "cell_type": "code",
   "execution_count": 2,
   "metadata": {
    "collapsed": true
   },
   "outputs": [],
   "source": [
    "def file_to_list(file_name):\n",
    "    \"\"\"Read a text file and create a list containing lines from the file.\"\"\"\n",
    "    file = open(file_name, encoding = 'utf-8')\n",
    "    l = [line.strip() for line in file]\n",
    "    file.close()\n",
    "    return l\n",
    "\n",
    "def lexemes(corpus):\n",
    "    \"\"\"split corpus to lexemes\"\"\"\n",
    "    lexemes = []\n",
    "    for line in corpus:\n",
    "        words = re.findall('\\t(.+?)\\t', line, flags = re.DOTALL)\n",
    "        if len(words) > 0:\n",
    "            lemmas.append(words[0])\n",
    "    return lemmas\n",
    "\n",
    "def questionnnaire_to_lists(file_name, sheet):\n",
    "    file = xlrd.open_workbook(file_name)\n",
    "    questionnaire = file.sheet_by_index(sheet)\n",
    "    it_nouns = [questionnaire.row_values(rownum)[1] for rownum in range(1, questionnaire.nrows)]\n",
    "    it_adjs = [questionnaire.row_values(0)[num] for num in range(2, 14)]\n",
    "    return it_nouns, it_adjs\n",
    "\n",
    "def probable_collocations(nom, adj):\n",
    "    \"\"\"Return a list of all possible collocations\"\"\"\n",
    "    collocations = []\n",
    "    for nom in nom_sizes:\n",
    "        for adj in adj_sizes:\n",
    "            coll1 = nom + ' ' + adj\n",
    "            coll2 = adj + ' ' + nom\n",
    "            collocations.append(coll1)\n",
    "            collocations.append(coll2))\n",
    "    return collocations\n",
    "\n",
    "def check_collocations(probable_collocations, lexemes, count=False):\n",
    "    \"\"\"check whether combinatory possible collocations are in corpus\"\"\"\n",
    "    if count==False:\n",
    "        true_collocations = []\n",
    "        for i in range(0, len(lexemes)-1):\n",
    "            if (lexemes[i] + ' ' + lexemes[i+1]) in probable_collocations:\n",
    "                true_collocations.append(lexemes[i])\n",
    "        true_collocations_set = {}\n",
    "        for i in range(0, len(true_collocations_set)):\n",
    "            first_word = re.findall('(.+?) ', true_collocations[i], flags = re.DOTALL)[0]\n",
    "            if first_word in adj_sizes:\n",
    "                second_word = re.findall(' (.+)', true_collocations[i], flags = re.DOTALL)[0]\n",
    "                true_collocations[i] = second_word + ' ' + first_word\n",
    "            tru_collocations_set.add(true_collocations[i])\n",
    "    \"\"\"If count parameter is True then it returns collocations with counts\"\"\"\n",
    "    if count==True:\n",
    "        true_collocations_set = {}\n",
    "        for i in range(0, len(lexemes)-1):\n",
    "            coll = lexemes[i] + ' ' + lexemes[i+1]\n",
    "            if coll in probable_collocations:\n",
    "                first_word = re.findall('(.+?) ', coll, flags = re.DOTALL)[0]\n",
    "                if first_word in adj_sizes:\n",
    "                    second_word = re.findall(' (.+)', coll, flags = re.DOTALL)[0]\n",
    "                    coll = second_word + ' ' + first_word\n",
    "                if coll in true_collocations_set:\n",
    "                    true_collocations_set[coll] += 1:\n",
    "                else:\n",
    "                    true_collocations_set[coll] = 1\n",
    "                    \n",
    "    return true_collocations_set\n",
    "\n",
    "def write_down_results(name, collocations):\n",
    "    file = open(name, 'w', encoding='utf-8')\n",
    "    for i in collocations:\n",
    "        file.write(i + '\\n')\n",
    "    file.close()"
   ]
  },
  {
   "cell_type": "code",
   "execution_count": null,
   "metadata": {},
   "outputs": [],
   "source": [
    "def find_collocations_in_wiki(file_name, sheet_number, corpus):\n",
    "    nom, adj = questionnnaire_to_lists(file_name, sheet_number)\n",
    "    probable_collocations = probable_collocations(nom, adj)\n",
    "    lexemes = lexemes(corpus)\n",
    "    probable_collocations = probable_collocations(nom, adj)\n",
    "    return check_collocations(probable_collocations, lexemes)"
   ]
  },
  {
   "cell_type": "code",
   "execution_count": null,
   "metadata": {},
   "outputs": [],
   "source": [
    "corpus = file_to_list('Итальянская Википедия/wikiCoNLL')"
   ]
  }
 ],
 "metadata": {
  "anaconda-cloud": {},
  "kernelspec": {
   "display_name": "Python 3",
   "language": "python",
   "name": "python3"
  },
  "language_info": {
   "codemirror_mode": {
    "name": "ipython",
    "version": 3
   },
   "file_extension": ".py",
   "mimetype": "text/x-python",
   "name": "python",
   "nbconvert_exporter": "python",
   "pygments_lexer": "ipython3",
   "version": "3.6.3"
  }
 },
 "nbformat": 4,
 "nbformat_minor": 1
}
